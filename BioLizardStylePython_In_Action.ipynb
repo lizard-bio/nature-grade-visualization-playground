{
 "cells": [
  {
   "cell_type": "markdown",
   "metadata": {
    "collapsed": false
   },
   "source": [
    "# BioLizardStylePython In Action"
   ]
  },
  {
   "cell_type": "markdown",
   "metadata": {
    "collapsed": false
   },
   "source": [
    "## Installation\n",
    "\n",
    "### 1. Extra requirements\n",
    "\n",
    "`BioLizardStylePython` relies on the colorspace package, which is not available on the Python Package Index (PyPI). However, it is hosted on GitHub and needs to be installed directly from there. To install the `colorspace` package, please run the following command in your terminal:"
   ]
  },
  {
   "cell_type": "code",
   "execution_count": null,
   "metadata": {
    "collapsed": false
   },
   "outputs": [],
   "source": [
    "pip install git+https://github.com/retostauffer/python-colorspace.git"
   ]
  },
  {
   "cell_type": "markdown",
   "metadata": {
    "collapsed": false
   },
   "source": [
    "Once you've successfully installed `colorspace`, you can proceed with the installation and usage of `BioLizardStylePython`."
   ]
  },
  {
   "cell_type": "markdown",
   "metadata": {
    "collapsed": false
   },
   "source": [
    "### 2. Package Installation\n",
    "\n",
    "The BioLizardStylePython package is available on PyPI and can be easily installed using:"
   ]
  },
  {
   "cell_type": "code",
   "execution_count": null,
   "metadata": {
    "collapsed": false
   },
   "outputs": [],
   "source": [
    "pip install BioLizardStylePython"
   ]
  },
  {
   "cell_type": "markdown",
   "metadata": {
    "collapsed": false
   },
   "source": [
    "\n",
    "### 3. Font Installation\n",
    "\n",
    "#### Check Local Installation\n",
    "First, check if you have the Nunito Sans font locally installed on your system.\n",
    "\n",
    "---\n",
    "\n",
    "#### Option 1: Download and Install from GitHub\n",
    "If you don't have the Nunito Sans font locally installed, you can download and install it from GitHub.\n",
    "\n",
    "1. **Download Fonts**: Download the two font files from the GitHub repository [Nature Grade Visualization Playground](https://github.com/lizard-bio/nature-grade-visualization-playground/tree/main).\n",
    "2. **Install Fonts**: Install the downloaded fonts on your system.\n",
    "3. **Complete**: Once the installation is done, you're all set to use the font.\n",
    "\n",
    "---\n",
    "\n",
    "#### Option 2: Already Installed\n",
    "If you find that the Nunito Sans font is **already installed**, there is no need for reinstallation.\n",
    "\n",
    "- **Identify Font Name**: Run the code snippet below to identify the specific name of your installed Nunito Sans font. This is essential as you'll need to pass this exact name to the `lizard_style()` function in the `font_name` argument. The default is 'Nunito Sans 10pt'.\n",
    "\n"
   ]
  },
  {
   "cell_type": "code",
   "execution_count": null,
   "metadata": {
    "collapsed": false
   },
   "outputs": [],
   "source": [
    "import matplotlib.font_manager\n",
    "fonts= matplotlib.font_manager.fontManager.ttflist\n",
    "# Get the list of installed fonts\n",
    "fonts = matplotlib.font_manager.fontManager.ttflist\n",
    "nunito_font_names = [font.name for font in fonts if 'nunito' in font.name.lower()]\n",
    "print(set(nunito_font_names))"
   ]
  },
  {
   "cell_type": "markdown",
   "metadata": {
    "collapsed": false
   },
   "source": [
    "## Usage & Examples\n",
    "\n",
    "### 1. Applying the style sheet: lizard_style()\n",
    "The package includes **a built-in style sheet**, designed to standardize and enhance the visual appeal of your plots. This style sheet configures various elements, ranging from fonts and font sizes to axis and grid settings, and even the default colors for multiple lines in a plot. Applying this style, which is also possible in the R package with + lizard_style() provides a **consistent look**, whether you're using ggplot in R or matplotlib/seaborn in Python.\n",
    "\n",
    "You can apply the Biolizard-look by placing `lizard_style()` at the top of your scripts after importing BioLizardStylePython. Please note that `lizard_style()` serves as a starting template and may not be the ideal style for every plot. You can easily customize individual style settings by placing your overrides after calling the `lizard_style()` function. Use plt.style.use('default') to return back to the default style.\n",
    "\n",
    "Here's a demonstration of how a simple line plot would look before and after applying the `lizard_style()`:"
   ]
  },
  {
   "cell_type": "code",
   "execution_count": null,
   "metadata": {
    "collapsed": false
   },
   "outputs": [],
   "source": [
    "import matplotlib.pyplot as plt\n",
    "import numpy as np\n",
    "from BioLizardStylePython import *\n",
    "np.random.seed(42)\n",
    "\n",
    "# Function to create random lineplot\n",
    "def create_line_plot():\n",
    "    x = np.linspace(0, 10, 10)\n",
    "    y1 = np.sin(x) + np.random.normal(0, 0.1, size=x.shape)\n",
    "    y2 = np.cos(x) + np.random.normal(0, 0.1, size=x.shape)\n",
    "    y3 = x + np.random.normal(0, 0.5, size=x.shape)\n",
    "    plt.figure()\n",
    "    plt.plot(x, y1, label='Line 1')\n",
    "    plt.plot(x, y2, label='Line 2')\n",
    "    plt.plot(x, y3, label='Line 3')\n",
    "    plt.title('Random Plot with 3 Lines')\n",
    "    plt.xlabel('X-axis')\n",
    "    plt.ylabel('Y-axis')\n",
    "    plt.legend()\n",
    "    plt.show()\n",
    "\n",
    "create_line_plot()"
   ]
  },
  {
   "cell_type": "code",
   "execution_count": null,
   "metadata": {
    "collapsed": false
   },
   "outputs": [],
   "source": [
    "lizard_style()\n",
    "create_line_plot()"
   ]
  },
  {
   "cell_type": "markdown",
   "metadata": {
    "collapsed": false
   },
   "source": [
    "### 2. Using the qualitative color palette\n",
    "\n",
    "The `biolizard_qualitative_pal()` function **retrieves a predefined qualitative colormap**. For instance, `biolizard_qualitative_pal().colors` returns a list of all 12 colors in hex code. Calling `biolizard_qualitative_pal()(0)` fetches the first color in the palette, while `biolizard_qualitative_pal()(range(5))` retrieves the first five colors.\n",
    "\n",
    "This palette is inspired by Martin Krzywinski's \"12-Color Palette for Color Blindness,\" yet also incorporates the signature colors of BioLizard for its **<span style=\"color:#01a086\">first</span> <span style=\"color:#1e2237\">three</span> <span style=\"color:#e9b940\">shades</span>**. Specifically designed to be **inclusive**, it is suitable for individuals with the most common form of color blindness: Deuteranopia (Red-Green Color Blindness).\n",
    "\n",
    "Here's two examples illustrating how to use this function:"
   ]
  },
  {
   "cell_type": "code",
   "execution_count": null,
   "metadata": {
    "collapsed": false
   },
   "outputs": [],
   "source": [
    "#Example 1\n",
    "import seaborn as sns\n",
    "# Sample data\n",
    "data = sns.load_dataset(\"iris\")\n",
    "# Using the colormap in Seaborn's swarmplot\n",
    "sns.swarmplot(x=\"species\", y=\"sepal_length\", data=data, palette=biolizard_qualitative_pal().colors)\n",
    "plt.title('A Flower Plot')\n",
    "plt.show()"
   ]
  },
  {
   "cell_type": "code",
   "execution_count": null,
   "metadata": {
    "collapsed": false
   },
   "outputs": [],
   "source": [
    "#Example 2\n",
    "# Data for the bar plot\n",
    "categories = ['A', 'B', 'C', 'D']\n",
    "values = [4, 7, 1, 8]\n",
    "\n",
    "# Generate colors from the qualitative palette\n",
    "palette= biolizard_qualitative_pal()\n",
    "bar_colors = [palette(i) for i in range(len(categories))]\n",
    "\n",
    "# Create the bar plot\n",
    "plt.figure(figsize=(8, 6))\n",
    "bars = plt.bar(categories, values, color=bar_colors)\n",
    "\n",
    "# Add title and labels\n",
    "plt.title('Example Bar Plot')\n",
    "plt.xlabel('Categories')\n",
    "plt.ylabel('Values')\n",
    "\n",
    "plt.show()"
   ]
  },
  {
   "cell_type": "markdown",
   "metadata": {
    "collapsed": false
   },
   "source": [
    "### 3. Using the sequential & divergent color map\n",
    "\n",
    "When you load this package, it automatically **registers two new colormaps in matplotlib**: a Sequential colormap and a Divergent colormap: **\"biolizard_sequential_pal\"** and **\"biolizard_divergent_pal\"**.\n",
    "\n",
    "#### Sequential\n",
    "\n",
    "The Sequential Biolizard Color Map is tailored to depict underlying numerical values via a uniform progression in luminance. It employs the distinctive **<span style=\"color:#01a086\">BioLizard green</span>** as its base hue. The palette uses HCL gradients for better perceptual uniformity compared to RGB, and uses a triangular chroma progression to distinguish middle-range values from extremes.\n",
    "\n",
    "#### Divergent\n",
    "\n",
    "This colormap is specifically designed for scenarios where the color corresponds to numerical values that have a natural midpoint. It utilizes a triangular luminance sequence with differing hues in each \"arm\" of the palette. Chroma and luminance are balanced between the two arms, and the neutral central value has zero chroma. The palette employs hues **<span style=\"color:#A329E2\">291</span>** and **<span style=\"color:#01a086\">170</span>**, the latter being Biolizard's distinctive green. This hue combination ensures that the palette is accessible for all major forms of color blindness.\n",
    "\n",
    "Here an example illustrating how to use these palettes:"
   ]
  },
  {
   "cell_type": "code",
   "execution_count": null,
   "metadata": {
    "collapsed": false
   },
   "outputs": [],
   "source": [
    "data = np.random.rand(5, 5)  # Example data\n",
    "plt.imshow(data, cmap='biolizard_sequential_pal')\n",
    "plt.colorbar()\n",
    "plt.show()\n",
    "\n",
    "data = np.random.rand(5, 5)  # Example data\n",
    "plt.imshow(data, cmap='biolizard_divergent_pal')\n",
    "plt.colorbar()\n",
    "plt.show()"
   ]
  },
  {
   "cell_type": "markdown",
   "metadata": {
    "collapsed": false
   },
   "source": [
    "### 4. Appending a BioLizard footer: finalise_lizardplot()\n",
    "\n",
    "The `finalise_lizardplot` function finalizes a matplotlib plot by appending a footer at the bottom and saving the resulting image. The footer includes a BioLizard logo and a customizable source text.\n",
    "\n",
    "#### Parameters\n",
    "\n",
    "- `plot`: The input matplotlib figure to be finalized.\n",
    "- `source_text`: The source text to display at the bottom.\n",
    "- `fontsize`: (Optional) Font size of the source text. Defaults to 12.\n",
    "- `pdf`: (Optional) If True, saves as PDF. Otherwise, saves as PNG. Defaults to False.\n",
    "- `output_name`: (Optional) Name of the output file. Defaults to \"TempLizardPlot\".\n",
    "- `save_filepath`: (Optional) Full path to save the output. Takes precedence over `output_name`.\n",
    "\n",
    "Here's an example:\n"
   ]
  },
  {
   "cell_type": "code",
   "execution_count": null,
   "metadata": {
    "collapsed": false
   },
   "outputs": [],
   "source": [
    "import seaborn as sns\n",
    "data = sns.load_dataset(\"iris\")\n",
    "fig = plt.figure()\n",
    "sns.swarmplot(x=\"species\", y=\"sepal_length\", data=data)\n",
    "plt.title('A Flower Plot')\n",
    "finalise_lizardplot(fig,\n",
    "                  'Source: https://en.wikipedia.org/wiki/Iris_flower_data_set ',\n",
    "                  fontsize=10, pdf=True, output_name='An_Iris_Plot')\n",
    "\n",
    "#Please take a look in your current working directory to see the result!"
   ]
  },
  {
   "cell_type": "code",
   "execution_count": null,
   "metadata": {
    "collapsed": false
   },
   "outputs": [],
   "source": []
  }
 ],
 "metadata": {
  "kernelspec": {
   "display_name": "Python 3",
   "language": "python",
   "name": "python3"
  },
  "language_info": {
   "codemirror_mode": {
    "name": "ipython",
    "version": 2
   },
   "file_extension": ".py",
   "mimetype": "text/x-python",
   "name": "python",
   "nbconvert_exporter": "python",
   "pygments_lexer": "ipython2",
   "version": "2.7.6"
  }
 },
 "nbformat": 4,
 "nbformat_minor": 0
}
