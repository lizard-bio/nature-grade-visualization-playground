{
 "cells": [
  {
   "cell_type": "markdown",
   "metadata": {
    "collapsed": false
   },
   "source": [
    "# BioLizardStylePython In Action"
   ]
  },
  {
   "cell_type": "markdown",
   "metadata": {
    "collapsed": false
   },
   "source": [
    "## Installation"
   ]
  },
  {
   "cell_type": "markdown",
   "metadata": {
    "collapsed": false
   },
   "source": [
    "The BioLizardStylePython package is available on PyPI and can be easily installed using:"
   ]
  },
  {
   "cell_type": "code",
   "execution_count": null,
   "metadata": {
    "collapsed": false
   },
   "outputs": [],
   "source": [
    "pip install BioLizardStylePython"
   ]
  },
  {
   "cell_type": "markdown",
   "metadata": {},
   "source": [
    "The BioLizardStylePython package makes use of the signature BioLizard font 'Lato'. This font can be found on Google Fonts under an open font license.\n",
    "The font has been packaged using the [Python Fonts module](https://pypi.org/project/fonts/) and should be installed automatically when installing BioLizardStylePython. See [font-lato](https://pypi.org/project/font-lato/) for more information."
   ]
  },
  {
   "cell_type": "markdown",
   "metadata": {
    "collapsed": false
   },
   "source": [
    "## Usage & Examples\n",
    "\n",
    "### 1. Applying the style sheet: lizard_style()\n",
    "The package includes **a built-in style sheet**, designed to standardize and enhance the visual appeal of your plots. This style sheet configures various elements, ranging from fonts and font sizes to axis and grid settings, and even the default colors for multiple lines in a plot. Applying this style, which is also possible in the R package with + lizard_style() provides a **consistent look**, whether you're using ggplot in R or matplotlib/seaborn in Python.\n",
    "\n",
    "You can apply the Biolizard-look by placing `lizard_style()` at the top of your scripts after importing BioLizardStylePython. Please note that `lizard_style()` serves as a starting template and may not be the ideal style for every plot. You can easily customize individual style settings by placing your overrides after calling the `lizard_style()` function. Use plt.style.use('default') to return back to the default style.\n",
    "\n",
    "Here's a demonstration of how a simple line plot would look before and after applying the `lizard_style()`:"
   ]
  },
  {
   "cell_type": "code",
   "execution_count": null,
   "metadata": {
    "collapsed": false
   },
   "outputs": [],
   "source": [
    "import matplotlib.pyplot as plt\n",
    "import numpy as np\n",
    "from BioLizardStylePython import *\n",
    "np.random.seed(42)\n",
    "\n",
    "# Function to create random lineplot\n",
    "def create_line_plot():\n",
    "    x = np.linspace(0, 10, 10)\n",
    "    y1 = np.sin(x) + np.random.normal(0, 0.1, size=x.shape)\n",
    "    y2 = np.cos(x) + np.random.normal(0, 0.1, size=x.shape)\n",
    "    y3 = x + np.random.normal(0, 0.5, size=x.shape)\n",
    "    plt.figure()\n",
    "    plt.plot(x, y1, label='Line 1')\n",
    "    plt.plot(x, y2, label='Line 2')\n",
    "    plt.plot(x, y3, label='Line 3')\n",
    "    plt.title('Random Plot with 3 Lines')\n",
    "    plt.xlabel('X-axis')\n",
    "    plt.ylabel('Y-axis')\n",
    "    plt.legend()\n",
    "    plt.show()\n",
    "\n",
    "create_line_plot()"
   ]
  },
  {
   "cell_type": "code",
   "execution_count": null,
   "metadata": {
    "collapsed": false
   },
   "outputs": [],
   "source": [
    "lizard_style()\n",
    "create_line_plot()"
   ]
  },
  {
   "cell_type": "markdown",
   "metadata": {
    "collapsed": false
   },
   "source": [
    "### 2. Using the qualitative color palette\n",
    "\n",
    "The `biolizard_qualitative_pal()` function **retrieves a predefined qualitative colormap**. For instance, `biolizard_qualitative_pal().colors` returns a list of all 12 colors in hex code. Calling `biolizard_qualitative_pal()(0)` fetches the first color in the palette, while `biolizard_qualitative_pal()(range(5))` retrieves the first five colors.\n",
    "\n",
    "This palette is inspired by Martin Krzywinski's \"12-Color Palette for Color Blindness,\" yet also incorporates the signature colors of BioLizard for its **<span style=\"color:#01a086\">first</span> <span style=\"color:#1e2237\">three</span> <span style=\"color:#e9b940\">shades</span>**. Specifically designed to be **inclusive**, it is suitable for individuals with the most common form of color blindness: Deuteranopia (Red-Green Color Blindness).\n",
    "\n",
    "Here's two examples illustrating how to use this function:"
   ]
  },
  {
   "cell_type": "code",
   "execution_count": null,
   "metadata": {
    "collapsed": false
   },
   "outputs": [],
   "source": [
    "#Example 1\n",
    "import seaborn as sns\n",
    "# Sample data\n",
    "data = sns.load_dataset(\"iris\")\n",
    "# Using the colormap in Seaborn's swarmplot\n",
    "sns.swarmplot(x=\"species\", y=\"sepal_length\", hue =\"species\", data=data, palette=biolizard_qualitative_pal.colors)\n",
    "plt.title('A Flower Plot')\n",
    "plt.show()"
   ]
  },
  {
   "cell_type": "code",
   "execution_count": null,
   "metadata": {
    "collapsed": false
   },
   "outputs": [],
   "source": [
    "#Example 2\n",
    "# Data for the bar plot\n",
    "categories = ['A'+str(i) for i in range(8)]\n",
    "values = [4, 7, 1, 8]*2\n",
    "\n",
    "# Generate colors from the qualitative palette\n",
    "bar_colors = biolizard_qualitative_pal(range(len(categories)))\n",
    "\n",
    "# Create the bar plot\n",
    "plt.figure(figsize=(8, 6))\n",
    "bars = plt.bar(categories, values, color=bar_colors)\n",
    "\n",
    "# Add title and labels\n",
    "plt.title('Example Bar Plot')\n",
    "plt.xlabel('Categories')\n",
    "plt.ylabel('Values')\n",
    "\n",
    "plt.show()"
   ]
  },
  {
   "cell_type": "markdown",
   "metadata": {},
   "source": [
    "following the conventions of matplotlib, adding the suffix '_r' calls the reversed color palette. "
   ]
  },
  {
   "cell_type": "code",
   "execution_count": null,
   "metadata": {},
   "outputs": [],
   "source": [
    "# Generate colors from the qualitative palette\n",
    "bar_colors = biolizard_qualitative_pal_r(range(len(categories)))\n",
    "\n",
    "# Create the bar plot\n",
    "plt.figure(figsize=(8, 6))\n",
    "bars = plt.bar(categories, values, color=bar_colors)\n",
    "\n",
    "# Add title and labels\n",
    "plt.title('Example Bar Plot')\n",
    "plt.xlabel('Categories')\n",
    "plt.ylabel('Values')\n",
    "\n",
    "plt.show()"
   ]
  },
  {
   "cell_type": "markdown",
   "metadata": {},
   "source": [
    "Note that you can also access the three base colors using:\n",
    "- blz_green (\"#01a086\")\n",
    "- blz_blue (#1e2237)\n",
    "- blz_yellow (#e9b940)"
   ]
  },
  {
   "cell_type": "code",
   "execution_count": null,
   "metadata": {},
   "outputs": [],
   "source": [
    "blz_green"
   ]
  },
  {
   "cell_type": "markdown",
   "metadata": {},
   "source": [
    "### 3. Using the sequential & divergent color map\n",
    "\n",
    "When you load this package, it automatically **registers two new colormaps in matplotlib**: a Sequential colormap and a Divergent colormap: **\"biolizard_sequential_pal\"** and **\"biolizard_divergent_pal\"**. Both **strings** are now recognized my matplotlib.\n",
    "\n",
    "**Sequential**\n",
    "\n",
    "The Sequential Biolizard Color Map is tailored to depict underlying numerical values via a uniform progression in luminance. It employs the distinctive **<span style=\"color:#01a086\">BioLizard green</span>** as its base hue. The palette uses HCL gradients for better perceptual uniformity compared to RGB, and uses a triangular chroma progression to distinguish middle-range values from extremes.\n",
    "\n",
    "**Divergent**\n",
    "\n",
    "This colormap is specifically designed for scenarios where the color corresponds to numerical values that have a natural midpoint. It utilizes a triangular luminance sequence with differing hues in each \"arm\" of the palette. Chroma and luminance are balanced between the two arms, and the neutral central value has zero chroma. The palette employs hues **<span style=\"color:#9C7000\">60</span>** and **<span style=\"color:#01a086\">170</span>**, the latter being Biolizard's distinctive green. This hue combination ensures that the palette is accessible for all major forms of color blindness.\n",
    "\n",
    "Here an example illustrating how to use these palettes:"
   ]
  },
  {
   "cell_type": "code",
   "execution_count": null,
   "metadata": {},
   "outputs": [],
   "source": [
    "data = np.random.rand(5, 5)  # Example data\n",
    "plt.imshow(data, cmap='biolizard_sequential_pal')\n",
    "plt.colorbar()\n",
    "plt.show()\n",
    "\n",
    "plt.imshow(data, cmap='biolizard_divergent_pal')\n",
    "plt.colorbar()\n",
    "plt.show()"
   ]
  },
  {
   "cell_type": "markdown",
   "metadata": {},
   "source": [
    "The corresponding palettes with suffix '_r' reverse the colors:"
   ]
  },
  {
   "cell_type": "code",
   "execution_count": null,
   "metadata": {},
   "outputs": [],
   "source": [
    "plt.imshow(data, cmap='biolizard_sequential_pal_r')\n",
    "plt.colorbar()\n",
    "plt.show()\n",
    "\n",
    "plt.imshow(data, cmap='biolizard_divergent_pal_r')\n",
    "plt.colorbar()\n",
    "plt.show()"
   ]
  },
  {
   "cell_type": "markdown",
   "metadata": {
    "collapsed": false
   },
   "source": [
    "### 4. Appending a BioLizard footer: finalise_lizardplot()\n",
    "\n",
    "The `finalise_lizardplot` function finalizes a matplotlib plot by appending a footer at the bottom and saving the resulting image. The footer includes a BioLizard logo and a customizable source text.\n",
    "\n",
    "#### Parameters\n",
    "\n",
    "- `plot`: The input matplotlib figure to be finalized.\n",
    "- `source_text`: The source text to display at the bottom.\n",
    "- `fontsize`: (Optional) Font size of the source text. Defaults to 12.\n",
    "- `pdf`: (Optional) If True, saves as PDF. Otherwise, saves as PNG. Defaults to False.\n",
    "- `output_name`: (Optional) Name of the output file. Defaults to \"TempLizardPlot\".\n",
    "- `save_filepath`: (Optional) Full path to save the output. Takes precedence over `output_name`.\n",
    "\n",
    "Here's an example:\n"
   ]
  },
  {
   "cell_type": "code",
   "execution_count": null,
   "metadata": {
    "collapsed": false
   },
   "outputs": [],
   "source": [
    "import seaborn as sns\n",
    "data = sns.load_dataset(\"iris\")\n",
    "fig = plt.figure()\n",
    "sns.swarmplot(x=\"species\", y=\"sepal_length\", data=data)\n",
    "plt.title('A Flower Plot')\n",
    "finalise_lizardplot(fig,\n",
    "                  'Source: https://en.wikipedia.org/wiki/Iris_flower_data_set ',\n",
    "                  fontsize=10, pdf=True, output_name='An_Iris_Plot')\n",
    "\n",
    "#Please take a look in your current working directory to see the result!"
   ]
  },
  {
   "cell_type": "markdown",
   "metadata": {},
   "source": [
    "## Fun with patches"
   ]
  },
  {
   "cell_type": "code",
   "execution_count": null,
   "metadata": {},
   "outputs": [],
   "source": [
    "# plt.style.use('default') \n",
    "lizard_style()\n",
    "\n",
    "def koch_snowflake(order, scale=10):\n",
    "    \"\"\"\n",
    "    Return two lists x, y of point coordinates of the Koch snowflake.\n",
    "\n",
    "    Parameters\n",
    "    ----------\n",
    "    order : int\n",
    "        The recursion depth.\n",
    "    scale : float\n",
    "        The extent of the snowflake (edge length of the base triangle).\n",
    "    \"\"\"\n",
    "    def _koch_snowflake_complex(order):\n",
    "        if order == 0:\n",
    "            # initial triangle\n",
    "            angles = np.array([0, 120, 240]) + 90\n",
    "            return scale / np.sqrt(3) * np.exp(np.deg2rad(angles) * 1j)\n",
    "        else:\n",
    "            ZR = 0.5 - 0.5j * np.sqrt(3) / 3\n",
    "\n",
    "            p1 = _koch_snowflake_complex(order - 1)  # start points\n",
    "            p2 = np.roll(p1, shift=-1)  # end points\n",
    "            dp = p2 - p1  # connection vectors\n",
    "\n",
    "            new_points = np.empty(len(p1) * 4, dtype=np.complex128)\n",
    "            new_points[::4] = p1\n",
    "            new_points[1::4] = p1 + dp / 3\n",
    "            new_points[2::4] = p1 + dp * ZR\n",
    "            new_points[3::4] = p1 + dp / 3 * 2\n",
    "            return new_points\n",
    "\n",
    "    points = _koch_snowflake_complex(order)\n",
    "    x, y = points.real, points.imag\n",
    "    return x, y\n",
    "\n",
    "\n",
    "x, y = koch_snowflake(order=5)\n",
    "\n",
    "plt.figure(figsize=(8, 8))\n",
    "plt.axis('equal')\n",
    "plt.fill(x, y)\n",
    "plt.show()"
   ]
  },
  {
   "cell_type": "markdown",
   "metadata": {},
   "source": [
    "## 4. interactive plots\n",
    "\n",
    "Plotly can be used for creating interactive graphs. Many examples can be found [here](https://plotly.com/python/). The plot below shows a bubble chart showcasing the GDP per capita, life expectation and population size for different countries."
   ]
  },
  {
   "cell_type": "code",
   "execution_count": null,
   "metadata": {},
   "outputs": [],
   "source": [
    "import plotly.express as px\n",
    "lizard_style(plotly=True)\n",
    "df = px.data.gapminder()\n",
    "\n",
    "fig = px.scatter(df.query(\"year==2007\"), x=\"gdpPercap\", y=\"lifeExp\",\n",
    "\t         size=\"pop\", color=\"continent\",\n",
    "                 hover_name=\"country\", log_x=True, size_max=60)\n",
    "fig.show()"
   ]
  }
 ],
 "metadata": {
  "kernelspec": {
   "display_name": "test",
   "language": "python",
   "name": "python3"
  },
  "language_info": {
   "codemirror_mode": {
    "name": "ipython",
    "version": 3
   },
   "file_extension": ".py",
   "mimetype": "text/x-python",
   "name": "python",
   "nbconvert_exporter": "python",
   "pygments_lexer": "ipython3",
   "version": "3.13.2"
  }
 },
 "nbformat": 4,
 "nbformat_minor": 0
}
